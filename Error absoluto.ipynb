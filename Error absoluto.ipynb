{
 "cells": [
  {
   "cell_type": "code",
   "execution_count": 4,
   "id": "254abe36",
   "metadata": {},
   "outputs": [],
   "source": [
    "import numpy as np # librería\n",
    "def calcular_estadistica(mediciones, error_sistematico): # función\n",
    "    mediciones= np.array(mediciones)\n",
    "    error_sistematico = np.array(error_sistematico)\n",
    "    media = np.mean(mediciones)\n",
    "    error_estadistico = np.std(mediciones, ddof=1) / np.sqrt(len(mediciones))\n",
    "    error_absoluto = np.sqrt(error_estadistico**2 + np.mean(error_sistematico)**2)\n",
    "    print(\"Media:\", media)\n",
    "    print(\"Error estadístico:\", error_estadistico)\n",
    "    print(\"Error absoluto:\", error_absoluto)\n",
    "    return "
   ]
  },
  {
   "cell_type": "code",
   "execution_count": 5,
   "id": "ae24fc7f",
   "metadata": {},
   "outputs": [
    {
     "name": "stdout",
     "output_type": "stream",
     "text": [
      "Media: 257.29999999999995\n",
      "Error estadístico: 0.3218004902972596\n",
      "Error absoluto: 0.37888725969021003\n"
     ]
    }
   ],
   "source": [
    "mediciones = [259.1,257.2,257.3,257.5,257.1,256.4,256.6,255.5,258.2,258.1] # insertar todas las mediciones\n",
    "error_sistematico = [0.2] # error sistematico del instrumento \n",
    "\n",
    "calcular_estadistica(mediciones, error_sistematico)"
   ]
  }
 ],
 "metadata": {
  "kernelspec": {
   "display_name": "Python 3 (ipykernel)",
   "language": "python",
   "name": "python3"
  },
  "language_info": {
   "codemirror_mode": {
    "name": "ipython",
    "version": 3
   },
   "file_extension": ".py",
   "mimetype": "text/x-python",
   "name": "python",
   "nbconvert_exporter": "python",
   "pygments_lexer": "ipython3",
   "version": "3.12.5"
  }
 },
 "nbformat": 4,
 "nbformat_minor": 5
}
